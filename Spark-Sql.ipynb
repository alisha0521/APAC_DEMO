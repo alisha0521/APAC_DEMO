{
 "cells": [
  {
   "cell_type": "code",
   "execution_count": 1,
   "metadata": {},
   "outputs": [
    {
     "name": "stdout",
     "output_type": "stream",
     "text": [
      "+-------+-------+--------------------+\n",
      "|Team_SK|Team_Id|           Team_Name|\n",
      "+-------+-------+--------------------+\n",
      "|      0|      1|Kolkata Knight Ri...|\n",
      "|      9|     10|       Pune Warriors|\n",
      "|     10|     11| Sunrisers Hyderabad|\n",
      "|     11|     12|Rising Pune Super...|\n",
      "|     12|     13|       Gujarat Lions|\n",
      "|      1|      2|Royal Challengers...|\n",
      "|      2|      3| Chennai Super Kings|\n",
      "|      3|      4|     Kings XI Punjab|\n",
      "|      4|      5|    Rajasthan Royals|\n",
      "|      5|      6|    Delhi Daredevils|\n",
      "+-------+-------+--------------------+\n",
      "only showing top 10 rows\n",
      "\n"
     ]
    }
   ],
   "source": [
    "#Reading data from mysql database \n",
    "\n",
    "from pyspark.sql import SparkSession\n",
    " \n",
    "# # Path to your MySQL JDBC driver jar file\n",
    "jdbc_driver_path = r\"C:\\Users\\ssabe01\\OneDrive - Kearney\\Documents\\GitHub\\dynamicDataIngestion\\mysql-connector-j-9.0.0.jar\"\n",
    " \n",
    "# Initialize Spark session with JDBC driver\n",
    "# spark = SparkSession.builder \\\n",
    "#     .appName(\"MySQL to Spark\") \\\n",
    "#     .config(\"spark.jars\", \"jdbc_driver_path\") \\\n",
    "#     .master(\"local[*]\") \\\n",
    "#     .getOrCreate()\n",
    "\n",
    "spark = SparkSession.builder \\\n",
    "    .appName(\"MyApp\") \\\n",
    "    .config(\"spark.driver.extraClassPath\", \"C:/Users/ssabe01/OneDrive - Kearney/Documents/GitHub/dynamicDataIngestion/mysql-connector-j-9.0.0.jar\") \\\n",
    "    .getOrCreate()\n",
    "\n",
    "\n",
    " \n",
    "# MySQL connection properties\n",
    "mysql_properties = {\n",
    "    \"user\": \"root\",\n",
    "    \"password\": \"Jyothi@123\",\n",
    "    \"driver\": \"com.mysql.cj.jdbc.Driver\",  \n",
    "    \"url\": \"jdbc:mysql://localhost:3306/ipl_data\"\n",
    "}\n",
    " \n",
    "table_name = \"teams\"\n",
    " \n",
    "# Read data from MySQL table\n",
    "try:\n",
    "    df_mysql = spark.read \\\n",
    "        .format(\"jdbc\") \\\n",
    "        .option(\"url\", mysql_properties[\"url\"]) \\\n",
    "        .option(\"dbtable\", table_name) \\\n",
    "        .option(\"user\", mysql_properties[\"user\"]) \\\n",
    "        .option(\"password\", mysql_properties[\"password\"]) \\\n",
    "        .option(\"driver\", mysql_properties[\"driver\"]) \\\n",
    "        .load()\n",
    " \n",
    "    df_mysql.show(10)\n",
    "except Exception as e:\n",
    "    print(f\"Error: {e}\")"
   ]
  },
  {
   "cell_type": "code",
   "execution_count": 2,
   "metadata": {},
   "outputs": [
    {
     "name": "stdout",
     "output_type": "stream",
     "text": [
      "+-------+-------+--------------------+\n",
      "|Team_SK|Team_Id|           Team_Name|\n",
      "+-------+-------+--------------------+\n",
      "|      0|      1|Kolkata Knight Ri...|\n",
      "|      1|      2|Royal Challengers...|\n",
      "|      2|      3| Chennai Super Kings|\n",
      "|      3|      4|     Kings XI Punjab|\n",
      "|      4|      5|    Rajasthan Royals|\n",
      "|      5|      6|    Delhi Daredevils|\n",
      "|      6|      7|      Mumbai Indians|\n",
      "|      7|      8|     Deccan Chargers|\n",
      "|      8|      9|Kochi Tuskers Kerala|\n",
      "|      9|     10|       Pune Warriors|\n",
      "|     10|     11| Sunrisers Hyderabad|\n",
      "|     11|     12|Rising Pune Super...|\n",
      "|     12|     13|       Gujarat Lions|\n",
      "+-------+-------+--------------------+\n",
      "\n"
     ]
    }
   ],
   "source": [
    "#Reading data from local file system\n",
    "\n",
    "# Initialize Spark Session\n",
    "\n",
    "spark = SparkSession.builder.appName(\"LoadLocalData\").getOrCreate()\n",
    "\n",
    "file_path = r\"C:\\Users\\ssabe01\\OneDrive - Kearney\\Desktop\\dynamicDataIngestion\\Sources\\ipl_data\\Team.csv\"\n",
    "\n",
    "\n",
    "\n",
    "df_team = spark.read.csv(file_path, header=True, inferSchema=True)\n",
    "\n",
    "df_team.show()"
   ]
  }
 ],
 "metadata": {
  "kernelspec": {
   "display_name": "Python 3",
   "language": "python",
   "name": "python3"
  },
  "language_info": {
   "codemirror_mode": {
    "name": "ipython",
    "version": 3
   },
   "file_extension": ".py",
   "mimetype": "text/x-python",
   "name": "python",
   "nbconvert_exporter": "python",
   "pygments_lexer": "ipython3",
   "version": "3.12.4"
  }
 },
 "nbformat": 4,
 "nbformat_minor": 2
}
