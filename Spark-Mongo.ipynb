{
 "cells": [
  {
   "cell_type": "markdown",
   "metadata": {},
   "source": [
    "# MongoDB Connection"
   ]
  },
  {
   "cell_type": "code",
   "execution_count": 1,
   "metadata": {},
   "outputs": [
    {
     "name": "stdout",
     "output_type": "stream",
     "text": [
      "MongoClient(host=['localhost:27017'], document_class=dict, tz_aware=False, connect=True)\n"
     ]
    }
   ],
   "source": [
    "import pymongo\n",
    "\n",
    "# Make connection\n",
    "client = pymongo.MongoClient(\"localhost\",27017)\n",
    "print(client)"
   ]
  },
  {
   "cell_type": "code",
   "execution_count": 2,
   "metadata": {},
   "outputs": [
    {
     "data": {
      "text/plain": [
       "['admin', 'config', 'firstdb', 'local']"
      ]
     },
     "execution_count": 2,
     "metadata": {},
     "output_type": "execute_result"
    }
   ],
   "source": [
    "client.list_database_names()"
   ]
  },
  {
   "cell_type": "code",
   "execution_count": 3,
   "metadata": {},
   "outputs": [
    {
     "data": {
      "text/plain": [
       "['pipeline1', 'movies']"
      ]
     },
     "execution_count": 3,
     "metadata": {},
     "output_type": "execute_result"
    }
   ],
   "source": [
    "database = client.firstdb\n",
    "database.list_collection_names()"
   ]
  },
  {
   "cell_type": "code",
   "execution_count": 4,
   "metadata": {},
   "outputs": [
    {
     "data": {
      "text/plain": [
       "77"
      ]
     },
     "execution_count": 4,
     "metadata": {},
     "output_type": "execute_result"
    }
   ],
   "source": [
    "database.movies.count_documents({})"
   ]
  },
  {
   "cell_type": "markdown",
   "metadata": {},
   "source": [
    "# Spark Connection"
   ]
  },
  {
   "cell_type": "code",
   "execution_count": 5,
   "metadata": {},
   "outputs": [],
   "source": [
    "from pyspark.sql import SparkSession\n",
    "\n",
    "# Initialize SparkSession with MongoDB connector JAR\n",
    "spark = SparkSession.builder \\\n",
    "    .appName(\"MongoDB Integration with PySpark\") \\\n",
    "    .config(\"spark.jars.packages\", \"org.mongodb.spark:mongo-spark-connector_2.12:3.0.1\") \\\n",
    "    .getOrCreate()"
   ]
  },
  {
   "cell_type": "code",
   "execution_count": 6,
   "metadata": {},
   "outputs": [],
   "source": [
    "# MongoDB connection URI\n",
    "uri = \"mongodb://localhost:27017/firstdb.pipeline1\""
   ]
  },
  {
   "cell_type": "code",
   "execution_count": 7,
   "metadata": {},
   "outputs": [],
   "source": [
    "# Read from MongoDB\n",
    "df_metadata = spark.read.format(\"mongo\") \\\n",
    "            .option(\"uri\", uri) \\\n",
    "            .load()\n",
    "\n"
   ]
  },
  {
   "cell_type": "code",
   "execution_count": 8,
   "metadata": {},
   "outputs": [
    {
     "name": "stdout",
     "output_type": "stream",
     "text": [
      "+-----------+-----------+----------+----------------+------+------------+-------------+-------------+--------------------+\n",
      "|ACTIVE_FLAG|SRC_DB_NAME|  SRC_NAME|    SRC_Tab_Name|STATUS|TRGT_DB_NAME|TRGT_SCH_NAME|TRGT_TBL_NAME|                 _id|\n",
      "+-----------+-----------+----------+----------------+------+------------+-------------+-------------+--------------------+\n",
      "|          Y|       null|Filesystem|Ball_By_Ball.csv|   TBD|    Targetdb|   Tagretsch1|       Table1|{66a78ab6e6d3b183...|\n",
      "|          Y|   Ipl_data|Sql_server|        Team.csv|   TBD|    Targetdb|   Tagretsch2|       Table2|{66a78ab6e6d3b183...|\n",
      "|          Y|       null|Filesystem|Player_match.csv|   TBD|    Targetdb|   Tagretsch1|       Table3|{66a78ab6e6d3b183...|\n",
      "|          Y|   Ipl_data|Sql_server|      Player.csv|   TBD|    Targetdb|   Tagretsch2|       Table4|{66a78ab6e6d3b183...|\n",
      "|          Y|       null|Filesystem|       Match.csv|   TBD|    Targetdb|   Tagretsch3|       Table5|{66a78ab6e6d3b183...|\n",
      "+-----------+-----------+----------+----------------+------+------------+-------------+-------------+--------------------+\n",
      "\n"
     ]
    },
    {
     "data": {
      "text/plain": [
       "'C:\\\\Users\\\\hshind01\\\\nosqlusecase'"
      ]
     },
     "execution_count": 8,
     "metadata": {},
     "output_type": "execute_result"
    }
   ],
   "source": [
    "# Example: Show the first few rows of the DataFrame\n",
    "df_metadata.show()\n",
    "\n",
    "# localFilePath=r'C:\\Users\\hshind01\\nosqlusecase\\dynamicDataIngestion\\src\\file-system'\n",
    "# localFilePath"
   ]
  },
  {
   "cell_type": "code",
   "execution_count": 9,
   "metadata": {},
   "outputs": [],
   "source": [
    "# reading Mongodb Metadata function\n",
    "def readingMongodbMetadata(df_metadata):\n",
    "       for row in df_metadata.toLocalIterator():\n",
    "        print(row)\n",
    "        if row['SRC_NAME']==\"filesystem\":\n",
    "                pass \n",
    "                    #ingestion from local file system\n",
    "                    #count no of records from source and store it in another table (validation table)\n",
    "        else:\n",
    "            pass\n",
    "            #from sql server\n",
    "            #count no of records from source and store it in another table (validation table)\n",
    "\n",
    "#update metadata function\n",
    "\n",
    "                \n",
    "        \n",
    "\n",
    "\n",
    "# Stop SparkSession\n",
    "# spark.stop()"
   ]
  },
  {
   "cell_type": "code",
   "execution_count": 10,
   "metadata": {},
   "outputs": [],
   "source": [
    "# readingMongodbMetadata(df_metadata)"
   ]
  }
 ],
 "metadata": {
  "kernelspec": {
   "display_name": "Python 3",
   "language": "python",
   "name": "python3"
  },
  "language_info": {
   "codemirror_mode": {
    "name": "ipython",
    "version": 3
   },
   "file_extension": ".py",
   "mimetype": "text/x-python",
   "name": "python",
   "nbconvert_exporter": "python",
   "pygments_lexer": "ipython3",
   "version": "3.11.5"
  }
 },
 "nbformat": 4,
 "nbformat_minor": 4
}
